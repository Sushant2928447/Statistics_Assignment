{
 "cells": [
  {
   "cell_type": "markdown",
   "id": "232561ae-0e1d-4ed8-9bec-a2a5a5476cab",
   "metadata": {},
   "source": [
    "Q1 = Generate a list o> 100 integers containing values between 90 to 130 and store it in the variable `int_list`.\n",
    "A>ter generating the list, >ind the >ollowing:\n",
    "\n",
    "  \n",
    "\n",
    "  (i) Write a Python function to calculate the mean of a given list of numbers.\n",
    "\n",
    "Create a function to find the median of a list of numbers.\n",
    "\n",
    "  \n",
    "\n",
    "  (ii) Develop a program to compute the mode of a list of integers.\n",
    "\n",
    "  \n",
    "\n",
    "  (iii) Implement a function to calculate the weighted mean of a list of values and their corresponding weights.\n",
    "\n",
    "  \n",
    "\n",
    "  (iv) Write a Python function to find the geometric mean of a list of positive numbers.\n",
    "\n",
    "  \n",
    "\n",
    "  (v) Create a program to calculate the harmonic mean of a list of values.\n",
    "\n",
    "  \n",
    "\n",
    "  (vi) Build a function to determine the midrange of a list of numbers (average of the minimum and maximum).\n",
    "\n",
    "  \n",
    "\n",
    "  (vii) Implement a Python program to find the trimmed mean of a list, excluding a certain percentage of\n",
    "outliers."
   ]
  },
  {
   "cell_type": "code",
   "execution_count": 6,
   "id": "d7ca242f-c962-4527-a432-ff181870dcc1",
   "metadata": {},
   "outputs": [
    {
     "name": "stdout",
     "output_type": "stream",
     "text": [
      "[125, 110, 106, 125, 119, 118, 92, 113, 118, 111, 108, 121, 112, 129, 101, 123, 118, 111, 90, 128, 113, 112, 91, 97, 115, 122, 97, 110, 95, 103, 92, 95, 114, 98, 92, 103, 127, 120, 96, 108, 101, 104, 112, 92, 99, 122, 92, 97, 113, 108, 112, 101, 118, 116, 99, 120, 129, 123, 123, 104, 117, 111, 93, 114, 127, 106, 93, 93, 108, 129, 95, 122, 130, 124, 90, 94, 101, 115, 103, 97, 100, 126, 98, 97, 99, 127, 110, 91, 115, 92, 112, 124, 90, 95, 122, 98, 121, 103, 106, 106]\n"
     ]
    }
   ],
   "source": [
    "import random\n",
    "\n",
    "int_list = [random.randint(90, 130) for _ in range(100)]\n",
    "print(int_list)\n"
   ]
  },
  {
   "cell_type": "code",
   "execution_count": 13,
   "id": "499056bb-fee0-4665-9eb3-ca23258761d8",
   "metadata": {},
   "outputs": [
    {
     "name": "stdout",
     "output_type": "stream",
     "text": [
      "Mean: 108.57\n",
      "Median: 109.0\n"
     ]
    }
   ],
   "source": [
    "#(i) Write a Python function to calculate the mean of a given list of numbers.\n",
    "#Create a function to find the median of a list of numbers.\n",
    "def calculate_mean(numbers):\n",
    "    return sum(numbers) / len(numbers)\n",
    "\n",
    "mean_value = calculate_mean(int_list)\n",
    "print(\"Mean:\", mean_value)\n",
    "\n",
    "def calculate_median(numbers):\n",
    "    sorted_numbers = sorted(numbers)\n",
    "    n = len(sorted_numbers)\n",
    "    mid = n // 2\n",
    "    if n % 2 == 0:\n",
    "        return (sorted_numbers[mid - 1] + sorted_numbers[mid]) / 2\n",
    "    else:\n",
    "        return sorted_numbers[mid]\n",
    "\n",
    "median_value = calculate_median(int_list)\n",
    "print(\"Median:\", median_value)\n"
   ]
  },
  {
   "cell_type": "code",
   "execution_count": 14,
   "id": "b37deea0-53d9-41ef-9240-e6273b5ab082",
   "metadata": {},
   "outputs": [
    {
     "name": "stdout",
     "output_type": "stream",
     "text": [
      "Mode: [92]\n"
     ]
    }
   ],
   "source": [
    "#(ii)  Develop a program to compute the mode of a list of integers.\n",
    "from collections import Counter\n",
    "\n",
    "def calculate_mode(numbers):\n",
    "    count = Counter(numbers)\n",
    "    max_count = max(count.values())\n",
    "    mode = [k for k, v in count.items() if v == max_count]\n",
    "    return mode\n",
    "\n",
    "mode_value = calculate_mode(int_list)\n",
    "print(\"Mode:\", mode_value)\n"
   ]
  },
  {
   "cell_type": "code",
   "execution_count": 11,
   "id": "c0e94f79-76bd-4115-8b4d-9f3b7fe7aca0",
   "metadata": {},
   "outputs": [
    {
     "name": "stdout",
     "output_type": "stream",
     "text": [
      "Weighted Mean: 23.333333333333332\n"
     ]
    }
   ],
   "source": [
    "#(iii) Write a Python function to find the geometric mean of a list of positive numbers.\n",
    "def calculate_weighted_mean(values, weights):\n",
    "    weighted_sum = sum(v * w for v, w in zip(values, weights))\n",
    "    total_weight = sum(weights)\n",
    "    return weighted_sum / total_weight\n",
    "\n",
    "# Example usage\n",
    "values = [10, 20, 30]\n",
    "weights = [1, 2, 3]\n",
    "weighted_mean_value = calculate_weighted_mean(values, weights)\n",
    "print(\"Weighted Mean:\", weighted_mean_value)\n"
   ]
  },
  {
   "cell_type": "code",
   "execution_count": 15,
   "id": "f833fbd6-9b49-4587-9951-84d26a323f95",
   "metadata": {},
   "outputs": [
    {
     "name": "stdout",
     "output_type": "stream",
     "text": [
      "Geometric Mean: 2.605171084697352\n"
     ]
    }
   ],
   "source": [
    "#(iv)Write a Python function to find the geometric mean of a list of positive numbers.\n",
    "import math\n",
    "\n",
    "def calculate_geometric_mean(numbers):\n",
    "    product = math.prod(numbers)\n",
    "    return product ** (1 / len(numbers))\n",
    "\n",
    "geometric_mean_value = calculate_geometric_mean([1, 2, 3, 4, 5])\n",
    "print(\"Geometric Mean:\", geometric_mean_value)\n"
   ]
  },
  {
   "cell_type": "code",
   "execution_count": 7,
   "id": "28c2cc54-eb72-4d58-b6e8-d4d71c6703fc",
   "metadata": {},
   "outputs": [
    {
     "name": "stdout",
     "output_type": "stream",
     "text": [
      "Harmonic Mean: 2.18978102189781\n"
     ]
    }
   ],
   "source": [
    "#(v) Create a program to calculate the harmonic mean of a list of values.\n",
    "def calculate_harmonic_mean(numbers):\n",
    "    return len(numbers) / sum(1 / x for x in numbers)\n",
    "\n",
    "harmonic_mean_value = calculate_harmonic_mean([1, 2, 3, 4, 5])\n",
    "print(\"Harmonic Mean:\", harmonic_mean_value)\n"
   ]
  },
  {
   "cell_type": "code",
   "execution_count": 16,
   "id": "c2357d23-db38-43fa-9dea-31cb70c2303a",
   "metadata": {},
   "outputs": [
    {
     "name": "stdout",
     "output_type": "stream",
     "text": [
      "Midrange: 110.0\n"
     ]
    }
   ],
   "source": [
    "#(vi) Build a function to determine the midrange of a list of numbers (average of the minimum and maximum).\n",
    "def calculate_midrange(numbers):\n",
    "    return (min(numbers) + max(numbers)) / 2\n",
    "\n",
    "midrange_value = calculate_midrange(int_list)\n",
    "print(\"Midrange:\", midrange_value)\n"
   ]
  },
  {
   "cell_type": "code",
   "execution_count": 17,
   "id": "e6b17d1e-91ba-4059-afcc-58e54360cb55",
   "metadata": {},
   "outputs": [
    {
     "name": "stdout",
     "output_type": "stream",
     "text": [
      "Trimmed Mean: 108.35\n"
     ]
    }
   ],
   "source": [
    "#(vii) Implement a Python program to find the trimmed mean of a list, excluding a certain percentage of outliers.\n",
    "def calculate_trimmed_mean(numbers, percentage):\n",
    "    n = len(numbers)\n",
    "    k = int(n * percentage / 100)\n",
    "    trimmed_numbers = sorted(numbers)[k:-k]\n",
    "    return sum(trimmed_numbers) / len(trimmed_numbers)\n",
    "\n",
    "trimmed_mean_value = calculate_trimmed_mean(int_list, 10)\n",
    "print(\"Trimmed Mean:\", trimmed_mean_value)\n"
   ]
  },
  {
   "cell_type": "markdown",
   "id": "0cee6cef-cf35-4959-a5f9-792697de4711",
   "metadata": {},
   "source": [
    " \n",
    " \n",
    " Q2. Generate a list o> 500 integers containing values between 200 to 300 and store it in the variable `int_list2`.\n",
    "After generating the list, find the following:\n",
    "\n",
    "\n",
    "  (i) Compare the given list of visualization for the given data:\n",
    "\n",
    "    \n",
    "\n",
    "    1. Frequency & Gaussian distribution\n",
    "\n",
    "    2. Frequency smoothened KDE plot\n",
    "\n",
    "    3. Gaussian distribution & smoothened KDE plot\n",
    "\n",
    "\n",
    "  (ii) Write a Python function to calculate the range of a given list of numbers.\n",
    "\n",
    "\n",
    "  (iii) Create a program to find the variance and standard deviation of a list of numbers.\n",
    "\n",
    "\n",
    "  (iv) Implement a function to compute the interquartile range (IQR) of a list of values.\n",
    "\n",
    "\n",
    "  (v) Build a program to calculate the coefficient of variation for a dataset.\n",
    "\n",
    "  \n",
    "\n",
    "  (vi) Write a Python function to find the mean absolute deviation (MAD) of a list of numbers.\n",
    "\n",
    "\n",
    "  (vii) Create a program to calculate the quartile deviation of a list of values.\n",
    "\n",
    "  \n",
    "\n",
    "  (viii) Implement a function to find the range-based coefficient of dispersion for a dataset."
   ]
  },
  {
   "cell_type": "code",
   "execution_count": 22,
   "id": "3c77698e-e356-479d-b508-fd3851f7fdf7",
   "metadata": {},
   "outputs": [
    {
     "name": "stdout",
     "output_type": "stream",
     "text": [
      "[269, 217, 274, 223, 223, 229, 263, 275, 282, 233, 243, 229, 244, 239, 208, 209, 288, 296, 252, 246, 217, 276, 213, 295, 256, 203, 292, 259, 270, 207, 226, 226, 221, 217, 211, 236, 285, 208, 279, 224, 237, 214, 230, 248, 233, 262, 267, 289, 239, 243, 229, 206, 279, 284, 218, 272, 250, 202, 282, 281, 285, 202, 294, 241, 224, 257, 276, 227, 271, 203, 238, 238, 269, 266, 278, 214, 273, 292, 281, 257, 294, 203, 217, 263, 249, 218, 278, 272, 244, 291, 235, 227, 240, 240, 253, 290, 251, 232, 218, 222, 235, 242, 258, 206, 278, 299, 270, 267, 258, 264, 280, 235, 227, 207, 212, 232, 267, 244, 231, 232, 221, 265, 224, 283, 252, 249, 234, 224, 202, 270, 261, 294, 247, 208, 278, 247, 213, 210, 269, 226, 244, 239, 251, 218, 213, 270, 298, 248, 296, 209, 234, 225, 294, 257, 217, 231, 284, 288, 270, 265, 276, 200, 237, 218, 277, 233, 278, 275, 299, 274, 241, 202, 296, 225, 254, 253, 272, 255, 257, 250, 290, 218, 253, 251, 244, 276, 223, 295, 200, 250, 276, 295, 232, 287, 281, 282, 293, 231, 266, 280, 287, 261, 213, 257, 288, 287, 254, 247, 231, 212, 207, 300, 201, 239, 297, 232, 225, 241, 238, 265, 223, 226, 278, 285, 207, 249, 204, 240, 292, 266, 242, 214, 300, 211, 215, 294, 232, 279, 299, 221, 284, 203, 240, 251, 257, 200, 222, 204, 203, 299, 225, 218, 269, 290, 237, 203, 250, 228, 295, 227, 204, 285, 240, 247, 296, 249, 299, 275, 285, 251, 280, 296, 240, 268, 214, 292, 223, 221, 262, 297, 205, 221, 233, 252, 300, 283, 205, 259, 297, 232, 292, 296, 239, 281, 289, 236, 231, 223, 260, 230, 234, 299, 279, 229, 285, 285, 254, 208, 247, 282, 217, 298, 212, 284, 230, 220, 219, 298, 299, 253, 214, 274, 296, 269, 259, 289, 241, 207, 277, 226, 270, 202, 251, 206, 292, 216, 213, 231, 214, 218, 236, 205, 222, 292, 216, 275, 233, 236, 284, 235, 233, 300, 285, 215, 238, 240, 262, 283, 273, 276, 298, 207, 216, 277, 255, 264, 229, 282, 232, 243, 296, 268, 239, 222, 238, 237, 212, 286, 246, 206, 277, 294, 264, 275, 285, 266, 280, 275, 231, 208, 207, 299, 286, 260, 273, 223, 215, 268, 226, 276, 269, 232, 233, 248, 284, 217, 281, 212, 242, 214, 205, 227, 293, 251, 281, 257, 243, 300, 227, 253, 272, 289, 228, 275, 283, 202, 280, 271, 270, 295, 201, 293, 254, 236, 223, 260, 234, 252, 208, 204, 206, 262, 263, 285, 203, 203, 263, 232, 266, 269, 247, 279, 278, 300, 278, 261, 281, 204, 269, 256, 297, 250, 243, 284, 252, 206, 251, 249, 251, 290, 254, 203, 298, 210, 208, 297, 291, 202, 275, 285, 230, 200, 278, 265, 299, 250, 229, 229, 224, 235, 230, 201, 277, 283, 257, 263, 292, 291, 292, 261]\n"
     ]
    }
   ],
   "source": [
    "import random\n",
    "\n",
    "# Generate the list of integers\n",
    "int_list2 = [random.randint(200, 300) for _ in range(500)]\n",
    "print(int_list2)"
   ]
  },
  {
   "cell_type": "code",
   "execution_count": 23,
   "id": "c63d63ce-8646-4b2d-b197-27d6110f4a8e",
   "metadata": {},
   "outputs": [
    {
     "data": {
      "image/png": "[encoded data removed]",
      "text/plain": [
       "<Figure size 1200x600 with 1 Axes>"
      ]
     },
     "metadata": {},
     "output_type": "display_data"
    },
    {
     "data": {
      "image/png": "[encoded data removed]",
      "text/plain": [
       "<Figure size 1200x600 with 1 Axes>"
      ]
     },
     "metadata": {},
     "output_type": "display_data"
    },
    {
     "data": {
      "image/png": "[encoded data removed]",
      "text/plain": [
       "<Figure size 1200x600 with 1 Axes>"
      ]
     },
     "metadata": {},
     "output_type": "display_data"
    }
   ],
   "source": [
    "#(i) Compare the given list of visualization for the given data:\n",
    "\n",
    "#1. Frequency & Gaussian distribution\n",
    "\n",
    "#2. Frequency smoothened KDE plot\n",
    "\n",
    "#3. Gaussian distribution & smoothened KDE plot\n",
    "\n",
    "import matplotlib.pyplot as plt\n",
    "import seaborn as sns\n",
    "import numpy as np\n",
    "\n",
    "# Frequency & Gaussian distribution\n",
    "plt.figure(figsize=(12, 6))\n",
    "sns.histplot(int_list2, kde=False, stat=\"density\", bins=30, color='blue', label='Frequency')\n",
    "sns.kdeplot(int_list2, color='red', label='Gaussian Distribution')\n",
    "plt.legend()\n",
    "plt.title('Frequency & Gaussian Distribution')\n",
    "plt.show()\n",
    "\n",
    "# Frequency smoothened KDE plot\n",
    "plt.figure(figsize=(12, 6))\n",
    "sns.histplot(int_list2, kde=True, stat=\"density\", bins=30, color='blue', label='Frequency')\n",
    "plt.legend()\n",
    "plt.title('Frequency Smoothened KDE Plot')\n",
    "plt.show()\n",
    "\n",
    "# Gaussian distribution & smoothened KDE plot\n",
    "plt.figure(figsize=(12, 6))\n",
    "sns.kdeplot(int_list2, color='red', label='Gaussian Distribution')\n",
    "sns.kdeplot(int_list2, bw_adjust=0.5, color='green', label='Smoothened KDE Plot')\n",
    "plt.legend()\n",
    "plt.title('Gaussian Distribution & Smoothened KDE Plot')\n",
    "plt.show()\n"
   ]
  },
  {
   "cell_type": "code",
   "execution_count": 24,
   "id": "a5f72fbd-51a2-4b45-b296-7fab666d4df5",
   "metadata": {},
   "outputs": [
    {
     "name": "stdout",
     "output_type": "stream",
     "text": [
      "Range: 100\n"
     ]
    }
   ],
   "source": [
    "# (ii) Write a Python function to calculate the range of a given list of numbers.\n",
    "def calculate_range(numbers):\n",
    "    return max(numbers) - min(numbers)\n",
    "\n",
    "range_value = calculate_range(int_list2)\n",
    "print(\"Range:\", range_value)\n"
   ]
  },
  {
   "cell_type": "code",
   "execution_count": 25,
   "id": "0388a131-2045-466b-84e9-93ee6a4088ff",
   "metadata": {},
   "outputs": [
    {
     "name": "stdout",
     "output_type": "stream",
     "text": [
      "Variance: 896.0000440000001\n",
      "Standard Deviation: 29.93325982915994\n"
     ]
    }
   ],
   "source": [
    "# (iii) Create a program to find the variance and standard deviation of a list of numbers.\n",
    "def calculate_variance(numbers):\n",
    "    mean = sum(numbers) / len(numbers)\n",
    "    return sum((x - mean) ** 2 for x in numbers) / len(numbers)\n",
    "\n",
    "def calculate_std_dev(numbers):\n",
    "    variance = calculate_variance(numbers)\n",
    "    return variance ** 0.5\n",
    "\n",
    "variance_value = calculate_variance(int_list2)\n",
    "std_dev_value = calculate_std_dev(int_list2)\n",
    "print(\"Variance:\", variance_value)\n",
    "print(\"Standard Deviation:\", std_dev_value)\n"
   ]
  },
  {
   "cell_type": "code",
   "execution_count": 26,
   "id": "8c345a38-7358-4382-92c0-45843614c33d",
   "metadata": {},
   "outputs": [
    {
     "name": "stdout",
     "output_type": "stream",
     "text": [
      "Interquartile Range (IQR): 52.0\n"
     ]
    }
   ],
   "source": [
    "# (iv) Implement a function to compute the interquartile range (IQR) of a list of values.\n",
    "def calculate_iqr(numbers):\n",
    "    q75, q25 = np.percentile(numbers, [75 ,25])\n",
    "    return q75 - q25\n",
    "\n",
    "iqr_value = calculate_iqr(int_list2)\n",
    "print(\"Interquartile Range (IQR):\", iqr_value)\n"
   ]
  },
  {
   "cell_type": "code",
   "execution_count": 27,
   "id": "06a4483f-af9b-408c-a5d4-4119a4c220fb",
   "metadata": {},
   "outputs": [
    {
     "name": "stdout",
     "output_type": "stream",
     "text": [
      "Coefficient of Variation: 11.93197158210357\n"
     ]
    }
   ],
   "source": [
    "# (v) Build a program to calculate the coefficient of variation for a dataset.\n",
    "def calculate_coefficient_of_variation(numbers):\n",
    "    mean = sum(numbers) / len(numbers)\n",
    "    std_dev = calculate_std_dev(numbers)\n",
    "    return (std_dev / mean) * 100\n",
    "\n",
    "cv_value = calculate_coefficient_of_variation(int_list2)\n",
    "print(\"Coefficient of Variation:\", cv_value)\n"
   ]
  },
  {
   "cell_type": "code",
   "execution_count": 28,
   "id": "d3ef09ee-d93e-496e-8b44-7d0abb3b329b",
   "metadata": {},
   "outputs": [
    {
     "name": "stdout",
     "output_type": "stream",
     "text": [
      "Mean Absolute Deviation (MAD): 26.158536\n"
     ]
    }
   ],
   "source": [
    "# (vi) Write a Python function to find the mean absolute deviation (MAD) of a list of numbers.\n",
    "def calculate_mad(numbers):\n",
    "    mean = sum(numbers) / len(numbers)\n",
    "    return sum(abs(x - mean) for x in numbers) / len(numbers)\n",
    "\n",
    "mad_value = calculate_mad(int_list2)\n",
    "print(\"Mean Absolute Deviation (MAD):\", mad_value)\n"
   ]
  },
  {
   "cell_type": "code",
   "execution_count": 29,
   "id": "554ac18e-c620-4c50-9775-57723d0b9fc5",
   "metadata": {},
   "outputs": [
    {
     "name": "stdout",
     "output_type": "stream",
     "text": [
      "Quartile Deviation: 26.0\n"
     ]
    }
   ],
   "source": [
    "#  (vii) Create a program to calculate the quartile deviation of a list of values.\n",
    "def calculate_quartile_deviation(numbers):\n",
    "    q75, q25 = np.percentile(numbers, [75 ,25])\n",
    "    return (q75 - q25) / 2\n",
    "\n",
    "qd_value = calculate_quartile_deviation(int_list2)\n",
    "print(\"Quartile Deviation:\", qd_value)\n"
   ]
  },
  {
   "cell_type": "code",
   "execution_count": 30,
   "id": "8e21ba90-8572-4b0b-96be-9fc767c51f3b",
   "metadata": {},
   "outputs": [
    {
     "name": "stdout",
     "output_type": "stream",
     "text": [
      "Range-based Coefficient of Dispersion: 39.86191831495699\n"
     ]
    }
   ],
   "source": [
    "#  (viii) Implement a function to find the range-based coefficient of dispersion for a dataset.\n",
    "def calculate_range_based_coefficient_of_dispersion(numbers):\n",
    "    range_value = calculate_range(numbers)\n",
    "    mean = sum(numbers) / len(numbers)\n",
    "    return (range_value / mean) * 100\n",
    "\n",
    "rcd_value = calculate_range_based_coefficient_of_dispersion(int_list2)\n",
    "print(\"Range-based Coefficient of Dispersion:\", rcd_value)\n"
   ]
  },
  {
   "cell_type": "markdown",
   "id": "907f1e7d-0087-48ca-8045-51b14004e521",
   "metadata": {},
   "source": [
    "Q3)  Write a Python class representing a discrete random variable with methods to calculate its expected\n",
    "value and variance."
   ]
  },
  {
   "cell_type": "code",
   "execution_count": null,
   "id": "01a8b68e-0f88-462b-93c4-58e11731cc7c",
   "metadata": {},
   "outputs": [],
   "source": []
  },
  {
   "cell_type": "markdown",
   "id": "894bec2f-1041-459a-8b68-4617fd92c815",
   "metadata": {},
   "source": [
    "Q4) Implement a program to simulate the rolling o6 a 6air six-sided die and calculate the expected value and\n",
    "variance o6 the outcomes."
   ]
  },
  {
   "cell_type": "code",
   "execution_count": 1,
   "id": "f085ca2c-db8d-4c37-b284-6aef24759c0c",
   "metadata": {},
   "outputs": [
    {
     "name": "stdout",
     "output_type": "stream",
     "text": [
      "Expected Value: 3.417\n",
      "Variance: 2.8131109999999997\n"
     ]
    }
   ],
   "source": [
    "import numpy as np\n",
    "\n",
    "class DieSimulation:\n",
    "    def __init__(self, num_rolls):\n",
    "        self.num_rolls = num_rolls\n",
    "        self.outcomes = np.random.randint(1, 7, size=num_rolls)\n",
    "\n",
    "    def expected_value(self):\n",
    "        return np.mean(self.outcomes)\n",
    "\n",
    "    def variance(self):\n",
    "        return np.var(self.outcomes)\n",
    "\n",
    "# Simulate rolling the die 1000 times\n",
    "num_rolls = 1000\n",
    "simulation = DieSimulation(num_rolls)\n",
    "\n",
    "print(\"Expected Value:\", simulation.expected_value())\n",
    "print(\"Variance:\", simulation.variance())\n"
   ]
  },
  {
   "cell_type": "markdown",
   "id": "0f049d6f-adee-4fbf-b90b-e8f019315b34",
   "metadata": {},
   "source": [
    "5Q) Create a Python function to generate random samples from a given probability distribution (e.g.,\n",
    "binomial, Poisson) and calculate their mean and variance."
   ]
  },
  {
   "cell_type": "code",
   "execution_count": 3,
   "id": "c1c2c835-101b-4fde-9705-6c7abe889653",
   "metadata": {},
   "outputs": [
    {
     "name": "stdout",
     "output_type": "stream",
     "text": [
      "Binomial Distribution - Mean: 4.968 Variance: 2.6289760000000006\n",
      "Poisson Distribution - Mean: 3.06 Variance: 2.9064\n"
     ]
    }
   ],
   "source": [
    "import numpy as np\n",
    "from scipy.stats import binom, poisson\n",
    "\n",
    "def generate_samples(distribution, params, size):\n",
    "\n",
    "    if distribution == 'binomial':\n",
    "        n, p = params\n",
    "        samples = np.random.binomial(n, p, size)\n",
    "    elif distribution == 'poisson':\n",
    "        lam = params\n",
    "        samples = np.random.poisson(lam, size)\n",
    "    else:\n",
    "        raise ValueError(\"Unsupported distribution. Choose 'binomial' or 'poisson'.\")\n",
    "    \n",
    "    mean = np.mean(samples)\n",
    "    variance = np.var(samples)\n",
    "    \n",
    "    return mean, variance\n",
    "\n",
    "# Example :\n",
    "binomial_params = (10, 0.5)  # 10 trials, 50% probability of success\n",
    "poisson_param = 3  # λ = 3\n",
    "\n",
    "binomial_mean, binomial_variance = generate_samples('binomial', binomial_params, 1000)\n",
    "poisson_mean, poisson_variance = generate_samples('poisson', poisson_param, 1000)\n",
    "\n",
    "print(\"Binomial Distribution - Mean:\", binomial_mean, \"Variance:\", binomial_variance)\n",
    "print(\"Poisson Distribution - Mean:\", poisson_mean, \"Variance:\", poisson_variance)\n"
   ]
  },
  {
   "cell_type": "markdown",
   "id": "aa8bf7b4-d6e3-4670-a205-214e08ae743d",
   "metadata": {},
   "source": [
    "Q6) Write a Python script to generate random numbers from a Gaussian (normal) distribution and compute\n",
    "the mean, variance, and standard deviation o6 the samples.\n"
   ]
  },
  {
   "cell_type": "code",
   "execution_count": 7,
   "id": "d5fcc93d-80b5-4368-bfdf-e42708b3c6bc",
   "metadata": {},
   "outputs": [
    {
     "name": "stdout",
     "output_type": "stream",
     "text": [
      "Mean: 0.038061475896647566\n",
      "Variance: 0.9541590652681151\n",
      "Standard Deviation: 0.9768106598866103\n"
     ]
    }
   ],
   "source": [
    "import numpy as np\n",
    "\n",
    "# Generate random numbers from a Gaussian distribution\n",
    "mean = 0\n",
    "std_dev = 1\n",
    "num_samples = 1000\n",
    "samples = np.random.normal(mean, std_dev, num_samples)\n",
    "\n",
    "# Compute the mean, variance, and standard deviation\n",
    "computed_mean = np.mean(samples)\n",
    "computed_variance = np.var(samples)\n",
    "computed_std_dev = np.std(samples)\n",
    "\n",
    "print(f\"Mean: {computed_mean}\")\n",
    "print(f\"Variance: {computed_variance}\")\n",
    "print(f\"Standard Deviation: {computed_std_dev}\")\n"
   ]
  },
  {
   "cell_type": "code",
   "execution_count": null,
   "id": "168f3d0d-6539-4e88-a66c-810b0fc93b60",
   "metadata": {},
   "outputs": [],
   "source": []
  },
  {
   "cell_type": "markdown",
   "id": "7af13a47-3778-43fd-9846-153838fe3512",
   "metadata": {},
   "source": [
    "Q7) Use seaborn library to load tips dataset. Find the following from the dataset for the columns total_bill\n",
    "and tip`:\n",
    "\n",
    "  \n",
    "\n",
    "  (i) Write a Python function that calculates their skewness.\n",
    "\n",
    "\n",
    "  (ii) Create a program that determines whether the columns exhibit positive skewness, negative skewness, or is\n",
    "approximately symmetric.\n",
    "\n",
    "\n",
    "  (iii) Write a function that calculates the covariance between two columns.\n",
    "\n",
    "\n",
    "  (iv) Implement a Python program that calculates the Pearson correlation coefficient between two columns.\n",
    "\n",
    "\n",
    "  (v) Write a script to visualize the correlation between two specific columns in a Pandas DataFrame using\n",
    "scatter plots."
   ]
  },
  {
   "cell_type": "code",
   "execution_count": 10,
   "id": "87603469-8e17-4d3f-ac0f-8d76f35e7fdd",
   "metadata": {},
   "outputs": [
    {
     "data": {
      "text/html": [
       "<div>\n",
       "<style scoped>\n",
       "    .dataframe tbody tr th:only-of-type {\n",
       "        vertical-align: middle;\n",
       "    }\n",
       "\n",
       "    .dataframe tbody tr th {\n",
       "        vertical-align: top;\n",
       "    }\n",
       "\n",
       "    .dataframe thead th {\n",
       "        text-align: right;\n",
       "    }\n",
       "</style>\n",
       "<table border=\"1\" class=\"dataframe\">\n",
       "  <thead>\n",
       "    <tr style=\"text-align: right;\">\n",
       "      <th></th>\n",
       "      <th>total_bill</th>\n",
       "      <th>tip</th>\n",
       "      <th>sex</th>\n",
       "      <th>smoker</th>\n",
       "      <th>day</th>\n",
       "      <th>time</th>\n",
       "      <th>size</th>\n",
       "    </tr>\n",
       "  </thead>\n",
       "  <tbody>\n",
       "    <tr>\n",
       "      <th>0</th>\n",
       "      <td>16.99</td>\n",
       "      <td>1.01</td>\n",
       "      <td>Female</td>\n",
       "      <td>No</td>\n",
       "      <td>Sun</td>\n",
       "      <td>Dinner</td>\n",
       "      <td>2</td>\n",
       "    </tr>\n",
       "    <tr>\n",
       "      <th>1</th>\n",
       "      <td>10.34</td>\n",
       "      <td>1.66</td>\n",
       "      <td>Male</td>\n",
       "      <td>No</td>\n",
       "      <td>Sun</td>\n",
       "      <td>Dinner</td>\n",
       "      <td>3</td>\n",
       "    </tr>\n",
       "    <tr>\n",
       "      <th>2</th>\n",
       "      <td>21.01</td>\n",
       "      <td>3.50</td>\n",
       "      <td>Male</td>\n",
       "      <td>No</td>\n",
       "      <td>Sun</td>\n",
       "      <td>Dinner</td>\n",
       "      <td>3</td>\n",
       "    </tr>\n",
       "    <tr>\n",
       "      <th>3</th>\n",
       "      <td>23.68</td>\n",
       "      <td>3.31</td>\n",
       "      <td>Male</td>\n",
       "      <td>No</td>\n",
       "      <td>Sun</td>\n",
       "      <td>Dinner</td>\n",
       "      <td>2</td>\n",
       "    </tr>\n",
       "    <tr>\n",
       "      <th>4</th>\n",
       "      <td>24.59</td>\n",
       "      <td>3.61</td>\n",
       "      <td>Female</td>\n",
       "      <td>No</td>\n",
       "      <td>Sun</td>\n",
       "      <td>Dinner</td>\n",
       "      <td>4</td>\n",
       "    </tr>\n",
       "    <tr>\n",
       "      <th>...</th>\n",
       "      <td>...</td>\n",
       "      <td>...</td>\n",
       "      <td>...</td>\n",
       "      <td>...</td>\n",
       "      <td>...</td>\n",
       "      <td>...</td>\n",
       "      <td>...</td>\n",
       "    </tr>\n",
       "    <tr>\n",
       "      <th>239</th>\n",
       "      <td>29.03</td>\n",
       "      <td>5.92</td>\n",
       "      <td>Male</td>\n",
       "      <td>No</td>\n",
       "      <td>Sat</td>\n",
       "      <td>Dinner</td>\n",
       "      <td>3</td>\n",
       "    </tr>\n",
       "    <tr>\n",
       "      <th>240</th>\n",
       "      <td>27.18</td>\n",
       "      <td>2.00</td>\n",
       "      <td>Female</td>\n",
       "      <td>Yes</td>\n",
       "      <td>Sat</td>\n",
       "      <td>Dinner</td>\n",
       "      <td>2</td>\n",
       "    </tr>\n",
       "    <tr>\n",
       "      <th>241</th>\n",
       "      <td>22.67</td>\n",
       "      <td>2.00</td>\n",
       "      <td>Male</td>\n",
       "      <td>Yes</td>\n",
       "      <td>Sat</td>\n",
       "      <td>Dinner</td>\n",
       "      <td>2</td>\n",
       "    </tr>\n",
       "    <tr>\n",
       "      <th>242</th>\n",
       "      <td>17.82</td>\n",
       "      <td>1.75</td>\n",
       "      <td>Male</td>\n",
       "      <td>No</td>\n",
       "      <td>Sat</td>\n",
       "      <td>Dinner</td>\n",
       "      <td>2</td>\n",
       "    </tr>\n",
       "    <tr>\n",
       "      <th>243</th>\n",
       "      <td>18.78</td>\n",
       "      <td>3.00</td>\n",
       "      <td>Female</td>\n",
       "      <td>No</td>\n",
       "      <td>Thur</td>\n",
       "      <td>Dinner</td>\n",
       "      <td>2</td>\n",
       "    </tr>\n",
       "  </tbody>\n",
       "</table>\n",
       "<p>244 rows × 7 columns</p>\n",
       "</div>"
      ],
      "text/plain": [
       "     total_bill   tip     sex smoker   day    time  size\n",
       "0         16.99  1.01  Female     No   Sun  Dinner     2\n",
       "1         10.34  1.66    Male     No   Sun  Dinner     3\n",
       "2         21.01  3.50    Male     No   Sun  Dinner     3\n",
       "3         23.68  3.31    Male     No   Sun  Dinner     2\n",
       "4         24.59  3.61  Female     No   Sun  Dinner     4\n",
       "..          ...   ...     ...    ...   ...     ...   ...\n",
       "239       29.03  5.92    Male     No   Sat  Dinner     3\n",
       "240       27.18  2.00  Female    Yes   Sat  Dinner     2\n",
       "241       22.67  2.00    Male    Yes   Sat  Dinner     2\n",
       "242       17.82  1.75    Male     No   Sat  Dinner     2\n",
       "243       18.78  3.00  Female     No  Thur  Dinner     2\n",
       "\n",
       "[244 rows x 7 columns]"
      ]
     },
     "execution_count": 10,
     "metadata": {},
     "output_type": "execute_result"
    }
   ],
   "source": [
    "import seaborn as sns\n",
    "import pandas as pd\n",
    "\n",
    "# Load the tips dataset\n",
    "tips = sns.load_dataset(\"tips\")\n",
    "tips"
   ]
  },
  {
   "cell_type": "code",
   "execution_count": 9,
   "id": "1010616d-2545-4199-a5d7-e31a6eb3f5c9",
   "metadata": {},
   "outputs": [
    {
     "name": "stdout",
     "output_type": "stream",
     "text": [
      "Total Bill Skewness: 1.1262346334818638\n",
      "Tip Skewness: 1.4564266884221506\n"
     ]
    }
   ],
   "source": [
    "#(i) Write a Python function that calculates their skewness.\n",
    "from scipy.stats import skew\n",
    "\n",
    "def calculate_skewness(data, column):\n",
    "    return skew(data[column])\n",
    "\n",
    "total_bill_skewness = calculate_skewness(tips, 'total_bill')\n",
    "tip_skewness = calculate_skewness(tips, 'tip')\n",
    "\n",
    "print(f\"Total Bill Skewness: {total_bill_skewness}\")\n",
    "print(f\"Tip Skewness: {tip_skewness}\")\n"
   ]
  },
  {
   "cell_type": "code",
   "execution_count": 11,
   "id": "48bcd621-df4f-430b-bdea-40f9f0aabef5",
   "metadata": {},
   "outputs": [
    {
     "name": "stdout",
     "output_type": "stream",
     "text": [
      "Total Bill Skewness Type: Positive Skewness\n",
      "Tip Skewness Type: Positive Skewness\n"
     ]
    }
   ],
   "source": [
    "#(ii) Create a program that determines whether the columns exhibit positive skewness, negative skewness, or is approximately symmetric.\n",
    "def skewness_type(skewness):\n",
    "    if skewness > 0:\n",
    "        return \"Positive Skewness\"\n",
    "    elif skewness < 0:\n",
    "        return \"Negative Skewness\"\n",
    "    else:\n",
    "        return \"Approximately Symmetric\"\n",
    "\n",
    "total_bill_skew_type = skewness_type(total_bill_skewness)\n",
    "tip_skew_type = skewness_type(tip_skewness)\n",
    "\n",
    "print(f\"Total Bill Skewness Type: {total_bill_skew_type}\")\n",
    "print(f\"Tip Skewness Type: {tip_skew_type}\")\n"
   ]
  },
  {
   "cell_type": "code",
   "execution_count": 12,
   "id": "1cc2a194-fb77-4fe8-93ac-66de4a0bfd45",
   "metadata": {},
   "outputs": [
    {
     "name": "stdout",
     "output_type": "stream",
     "text": [
      "Covariance between Total Bill and Tip: 8.323501629224854\n"
     ]
    }
   ],
   "source": [
    "#(iii) Write a function that calculates the covariance between two columns.\n",
    "def calculate_covariance(data, column1, column2):\n",
    "    return data[[column1, column2]].cov().iloc[0, 1]\n",
    "\n",
    "covariance = calculate_covariance(tips, 'total_bill', 'tip')\n",
    "print(f\"Covariance between Total Bill and Tip: {covariance}\")\n"
   ]
  },
  {
   "cell_type": "code",
   "execution_count": 13,
   "id": "97c5e8fa-a27b-4480-91e4-cea1268d2f2a",
   "metadata": {},
   "outputs": [
    {
     "name": "stdout",
     "output_type": "stream",
     "text": [
      "Pearson Correlation Coefficient between Total Bill and Tip: 0.6757341092113648\n"
     ]
    }
   ],
   "source": [
    "#(iv) Implement a Python program that calculates the Pearson correlation coefficient between two columns.\n",
    "def calculate_pearson_correlation(data, column1, column2):\n",
    "    return data[[column1, column2]].corr().iloc[0, 1]\n",
    "\n",
    "pearson_correlation = calculate_pearson_correlation(tips, 'total_bill', 'tip')\n",
    "print(f\"Pearson Correlation Coefficient between Total Bill and Tip: {pearson_correlation}\")\n"
   ]
  },
  {
   "cell_type": "code",
   "execution_count": 14,
   "id": "e2310eec-7d84-4d56-ac78-e8eb1a79b12b",
   "metadata": {},
   "outputs": [
    {
     "data": {
      "image/png": "[encoded data removed]",
      "text/plain": [
       "<Figure size 1000x600 with 1 Axes>"
      ]
     },
     "metadata": {},
     "output_type": "display_data"
    }
   ],
   "source": [
    "#(v) Write a script to visualize the correlation between two specific columns in a Pandas DataFrame using scatter plots.\n",
    "import matplotlib.pyplot as plt\n",
    "\n",
    "def visualize_correlation(data, column1, column2):\n",
    "    plt.figure(figsize=(10, 6))\n",
    "    sns.scatterplot(data=data, x=column1, y=column2)\n",
    "    plt.title(f'Scatter Plot of {column1} vs {column2}')\n",
    "    plt.xlabel(column1)\n",
    "    plt.ylabel(column2)\n",
    "    plt.show()\n",
    "\n",
    "visualize_correlation(tips, 'total_bill', 'tip')\n"
   ]
  },
  {
   "cell_type": "code",
   "execution_count": null,
   "id": "73b8f545-641e-4b96-9f23-ecf4ec90ce85",
   "metadata": {},
   "outputs": [],
   "source": []
  },
  {
   "cell_type": "markdown",
   "id": "5eac9aff-40a4-4cd7-a67c-d14c5c665fd7",
   "metadata": {},
   "source": [
    "Q8) Write a Python function to calculate the probability density function (PDF) of a continuous random\n",
    "variable for a given normal distribution.\n"
   ]
  },
  {
   "cell_type": "code",
   "execution_count": 17,
   "id": "a8538ca0-c754-4268-bcd0-06f213eb1016",
   "metadata": {},
   "outputs": [
    {
     "name": "stdout",
     "output_type": "stream",
     "text": [
      "[7.69459863e-23 5.68442201e-22 4.03145816e-21 2.74481769e-20\n",
      " 1.79407401e-19 1.12575195e-18 6.78141882e-18 3.92169602e-17\n",
      " 2.17722239e-16 1.16039850e-15 5.93727315e-15 2.91636853e-14\n",
      " 1.37522348e-13 6.22557774e-13 2.70558725e-12 1.12880502e-11\n",
      " 4.52118024e-11 1.73844203e-10 6.41717835e-10 2.27406833e-09\n",
      " 7.73639102e-09 2.52667171e-08 7.92199799e-08 2.38449349e-07\n",
      " 6.89021948e-07 1.91137312e-06 5.09018302e-06 1.30135811e-05\n",
      " 3.19400618e-05 7.52575687e-05 1.70231576e-04 3.69662637e-04\n",
      " 7.70631042e-04 1.54227900e-03 2.96315857e-03 5.46540492e-03\n",
      " 9.67754721e-03 1.64506763e-02 2.68458845e-02 4.20578610e-02\n",
      " 6.32546052e-02 9.13298239e-02 1.26592680e-01 1.68453513e-01\n",
      " 2.15192461e-01 2.63906165e-01 3.10704486e-01 3.51172916e-01\n",
      " 3.81039507e-01 3.96912251e-01 3.96912251e-01 3.81039507e-01\n",
      " 3.51172916e-01 3.10704486e-01 2.63906165e-01 2.15192461e-01\n",
      " 1.68453513e-01 1.26592680e-01 9.13298239e-02 6.32546052e-02\n",
      " 4.20578610e-02 2.68458845e-02 1.64506763e-02 9.67754721e-03\n",
      " 5.46540492e-03 2.96315857e-03 1.54227900e-03 7.70631042e-04\n",
      " 3.69662637e-04 1.70231576e-04 7.52575687e-05 3.19400618e-05\n",
      " 1.30135811e-05 5.09018302e-06 1.91137312e-06 6.89021948e-07\n",
      " 2.38449349e-07 7.92199799e-08 2.52667171e-08 7.73639102e-09\n",
      " 2.27406833e-09 6.41717835e-10 1.73844203e-10 4.52118024e-11\n",
      " 1.12880502e-11 2.70558725e-12 6.22557774e-13 1.37522348e-13\n",
      " 2.91636853e-14 5.93727315e-15 1.16039850e-15 2.17722239e-16\n",
      " 3.92169602e-17 6.78141882e-18 1.12575195e-18 1.79407401e-19\n",
      " 2.74481769e-20 4.03145816e-21 5.68442201e-22 7.69459863e-23]\n"
     ]
    }
   ],
   "source": [
    "import numpy as np\n",
    "from scipy.stats import norm\n",
    "\n",
    "def calculate_pdf(x, mean, std_dev):\n",
    "    \"\"\"\n",
    "    Calculate the probability density function (PDF) of a normal distribution.\n",
    "\n",
    "    Parameters:\n",
    "    x (array-like): Values at which to evaluate the PDF.\n",
    "    mean (float): Mean of the normal distribution.\n",
    "    std_dev (float): Standard deviation of the normal distribution.\n",
    "\n",
    "    Returns:\n",
    "    array-like: PDF values corresponding to x.\n",
    "    \"\"\"\n",
    "    pdf_values = norm.pdf(x, loc=mean, scale=std_dev)\n",
    "    return pdf_values\n",
    "\n",
    "# Example usage:\n",
    "x = np.linspace(-10, 10, 100)\n",
    "mean = 0\n",
    "std_dev = 1\n",
    "pdf_values = calculate_pdf(x, mean, std_dev)\n",
    "\n",
    "print(pdf_values)\n"
   ]
  },
  {
   "cell_type": "code",
   "execution_count": null,
   "id": "a49e4f3c-7539-43f9-88fe-faa7d4b58bf3",
   "metadata": {},
   "outputs": [],
   "source": []
  },
  {
   "cell_type": "markdown",
   "id": "54906e7a-3922-4a6b-9a59-7c600007549c",
   "metadata": {},
   "source": [
    "Q 9) Create a program to calculate the cumulative distribution 6unction (CDF) o6 exponential distribution."
   ]
  },
  {
   "cell_type": "code",
   "execution_count": 1,
   "id": "d069b9f1-59fd-41df-b215-059a60507a57",
   "metadata": {},
   "outputs": [
    {
     "data": {
      "image/png": "[encoded data removed]",
      "text/plain": [
       "<Figure size 640x480 with 1 Axes>"
      ]
     },
     "metadata": {},
     "output_type": "display_data"
    }
   ],
   "source": [
    "import numpy as np\n",
    "import matplotlib.pyplot as plt\n",
    "from scipy.stats import expon\n",
    "\n",
    "# Define the rate parameter (lambda)\n",
    "rate = 1.0\n",
    "\n",
    "# Generate a range of x values\n",
    "x = np.linspace(0, 10, 1000)\n",
    "\n",
    "# Calculate the CDF for each x value\n",
    "cdf = expon.cdf(x, scale=1/rate)\n",
    "\n",
    "plt.plot(x, cdf, label='CDF')\n",
    "plt.xlabel('x')\n",
    "plt.ylabel('CDF')\n",
    "plt.title('Cumulative Distribution Function of Exponential Distribution')\n",
    "plt.legend()\n",
    "plt.grid(True)\n",
    "plt.show()\n"
   ]
  },
  {
   "cell_type": "code",
   "execution_count": null,
   "id": "ebfda572-46a0-4e31-bf00-2c0f0d841ba3",
   "metadata": {},
   "outputs": [],
   "source": []
  },
  {
   "cell_type": "markdown",
   "id": "4c28e264-a279-4ea1-8564-00cad61b36b9",
   "metadata": {},
   "source": [
    "Q 10) Write a Python function to calculate the probability mass function (PMF) of Poisson distribution."
   ]
  },
  {
   "cell_type": "code",
   "execution_count": 7,
   "id": "5f47947a-dd11-45a1-bd9c-d5062a205b88",
   "metadata": {},
   "outputs": [
    {
     "name": "stdout",
     "output_type": "stream",
     "text": [
      "k values: [0 1 2 3 4 5 6 7 8 9]\n",
      "PMF values: [0.04978707 0.14936121 0.22404181 0.22404181 0.16803136 0.10081881\n",
      " 0.05040941 0.02160403 0.00810151 0.0027005 ]\n"
     ]
    }
   ],
   "source": [
    "import numpy as np\n",
    "from scipy.stats import poisson\n",
    "\n",
    "def poisson_pmf(k, mu):\n",
    "    \"\"\"\n",
    "    Calculate the probability mass function (PMF) of a Poisson distribution.\n",
    "\n",
    "    Parameters:\n",
    "    k (int or array-like): The number of occurrences.\n",
    "    mu (float): The average number of occurrences (rate parameter).\n",
    "\n",
    "    Returns:\n",
    "    float or array-like: The PMF value(s) for the given k.\n",
    "    \"\"\"\n",
    "    return poisson.pmf(k, mu)\n",
    "\n",
    "# Example usage\n",
    "k_values = np.arange(0, 10)\n",
    "mu = 3.0\n",
    "pmf_values = poisson_pmf(k_values, mu)\n",
    "\n",
    "print(\"k values:\", k_values)\n",
    "print(\"PMF values:\", pmf_values)\n"
   ]
  },
  {
   "cell_type": "code",
   "execution_count": null,
   "id": "033dc72d-9301-40ce-92b3-f7061416f3d6",
   "metadata": {},
   "outputs": [],
   "source": []
  },
  {
   "cell_type": "markdown",
   "id": "2b1dcfc9-bb72-4f28-a86c-8f5a9a3ecbe6",
   "metadata": {},
   "source": [
    "Q 11 )A company wants to test if a new website layout leads to a higher conversion rate (percentage of visitors\n",
    "who make a purchase). They collect data from the old and new layouts to compare.\n",
    "\n",
    "\n",
    "To generate the data use the following command:\n",
    "\n",
    "```python\n",
    "\n",
    "import numpy as np\n",
    "\n",
    "# 50 purchases out of 1000 visitors\n",
    "\n",
    "old_layout = np.array([1] * 50 + [0] * 950)\n",
    "\n",
    "# 70 purchases out of 1000 visitors  \n",
    "\n",
    "new_layout = np.array([1] * 70 + [0] * 930)\n",
    "\n",
    "  ```\n",
    "\n",
    "Apply z-test to find which layout is successful.\n",
    "\n"
   ]
  },
  {
   "cell_type": "code",
   "execution_count": 8,
   "id": "0b0611af-5ece-4b75-bac5-7587818c05b3",
   "metadata": {},
   "outputs": [
    {
     "name": "stdout",
     "output_type": "stream",
     "text": [
      "Z-statistic: -1.88\n",
      "P-value: 0.0597\n"
     ]
    }
   ],
   "source": [
    "import numpy as np\n",
    "from statsmodels.stats.proportion import proportions_ztest\n",
    "\n",
    "# 50 purchases out of 1000 visitors\n",
    "old_layout = np.array([1] * 50 + [0] * 950)\n",
    "\n",
    "# 70 purchases out of 1000 visitors\n",
    "new_layout = np.array([1] * 70 + [0] * 930)\n",
    "\n",
    "# Number of successes (purchases)\n",
    "successes = np.array([old_layout.sum(), new_layout.sum()])\n",
    "\n",
    "# Number of trials (visitors)\n",
    "nobs = np.array([len(old_layout), len(new_layout)])\n",
    "\n",
    "# Apply z-test\n",
    "stat, p_value = proportions_ztest(successes, nobs)\n",
    "\n",
    "print(f\"Z-statistic: {stat:.2f}\")\n",
    "print(f\"P-value: {p_value:.4f}\")\n"
   ]
  },
  {
   "cell_type": "code",
   "execution_count": null,
   "id": "0d64d760-bef2-41a9-9fe6-6ac4a7ace7fc",
   "metadata": {},
   "outputs": [],
   "source": []
  },
  {
   "cell_type": "markdown",
   "id": "6bb75d42-0852-486c-953f-b630846d01dc",
   "metadata": {},
   "source": [
    "Q12) A tutoring service claims that its program improves students' exam scores. A sample of students who\n",
    "participated in the program was taken, and their scores before and after the program were recorded.\n",
    "\n",
    "\n",
    "Use the below code to generate samples of respective arrays of marks:\n",
    "\n",
    "```python\n",
    "\n",
    "before_program = <p.array([75, 80, 85, 70, 90, 78, 92, 88, 82, 87])\n",
    "\n",
    "after_program = <p.array([80, 85, 90, 80, 92, 80, 95, 90, 85, 88])\n",
    "\n",
    "```\n",
    "\n",
    "Use z-test to find if the claims made by tutor are true or false.\n",
    "\n"
   ]
  },
  {
   "cell_type": "code",
   "execution_count": 10,
   "id": "091f7df1-2a86-4d8e-87b4-223a8493a6f3",
   "metadata": {},
   "outputs": [
    {
     "name": "stdout",
     "output_type": "stream",
     "text": [
      "Mean Difference: 3.8\n",
      "Standard Deviation of Differences: 2.616188916046478\n",
      "Z-Score: 4.593190894944668\n",
      "P-Value: 4.365194105293568e-06\n",
      "Reject the null hypothesis. The tutoring program significantly improved the students' scores.\n"
     ]
    }
   ],
   "source": [
    "import numpy as np\n",
    "from scipy import stats\n",
    "\n",
    "# Scores before and after the program\n",
    "before_program = np.array([75, 80, 85, 70, 90, 78, 92, 88, 82, 87])\n",
    "after_program = np.array([80, 85, 90, 80, 92, 80, 95, 90, 85, 88])\n",
    "\n",
    "# Calculate the differences\n",
    "differences = after_program - before_program\n",
    "\n",
    "# Calculate the mean and standard deviation of the differences\n",
    "mean_diff = np.mean(differences)\n",
    "std_diff = np.std(differences, ddof=1)\n",
    "\n",
    "# Number of observations\n",
    "n = len(differences)\n",
    "\n",
    "# Calculate the standard error\n",
    "std_error = std_diff / np.sqrt(n)\n",
    "\n",
    "# Calculate the z-score\n",
    "z_score = mean_diff / std_error\n",
    "\n",
    "# Calculate the p-value\n",
    "p_value = 2 * (1 - stats.norm.cdf(abs(z_score)))\n",
    "\n",
    "# Print the results\n",
    "print(f\"Mean Difference: {mean_diff}\")\n",
    "print(f\"Standard Deviation of Differences: {std_diff}\")\n",
    "print(f\"Z-Score: {z_score}\")\n",
    "print(f\"P-Value: {p_value}\")\n",
    "\n",
    "# Decision\n",
    "alpha = 0.05\n",
    "if p_value < alpha:\n",
    "    print(\"Reject the null hypothesis. The tutoring program significantly improved the students' scores.\")\n",
    "else:\n",
    "    print(\"Fail to reject the null hypothesis. There is no significant improvement in the students' scores.\")\n"
   ]
  },
  {
   "cell_type": "code",
   "execution_count": null,
   "id": "da0f1a71-4d9b-4e72-98ad-e8008754a512",
   "metadata": {},
   "outputs": [],
   "source": []
  },
  {
   "cell_type": "markdown",
   "id": "2afd01cc-2403-4a1d-abd1-45cc075b5de1",
   "metadata": {},
   "source": [
    "Q 13)A pharmaceutical company wants to determine if a new drug is effective in reducing blood pressure. They\n",
    "conduct a study and record blood pressure measurements before and after administering the drug.\n",
    "\n",
    "\n",
    "Use the below code to generate samples of respective arrays of blood pressure:\n",
    "\n",
    "\n",
    "```python\n",
    "\n",
    "before_drug = <p.array([145, 150, 140, 135, 155, 160, 152, 148, 130, 138])\n",
    "\n",
    "after_drug = <p.array([130, 140, 132, 128, 145, 148, 138, 136, 125, 130])\n",
    "\n",
    "  ```\n",
    "\n",
    "\n",
    "Implement z-test to find if the drug really works or not."
   ]
  },
  {
   "cell_type": "code",
   "execution_count": 11,
   "id": "57a97bdc-6e56-4091-9eae-633824d25795",
   "metadata": {},
   "outputs": [
    {
     "name": "stdout",
     "output_type": "stream",
     "text": [
      "Mean difference: 10.1\n",
      "Standard deviation of differences: 3.178049716414141\n",
      "Z-score: 10.049875621120888\n",
      "P-value: 0.0\n",
      "The drug is effective in reducing blood pressure.\n"
     ]
    }
   ],
   "source": [
    "import numpy as np\n",
    "from scipy import stats\n",
    "\n",
    "# Blood pressure measurements before and after administering the drug\n",
    "before_drug = np.array([145, 150, 140, 135, 155, 160, 152, 148, 130, 138])\n",
    "after_drug = np.array([130, 140, 132, 128, 145, 148, 138, 136, 125, 130])\n",
    "\n",
    "# Calculate the differences\n",
    "differences = before_drug - after_drug\n",
    "\n",
    "# Calculate the mean and standard deviation of the differences\n",
    "mean_diff = np.mean(differences)\n",
    "std_diff = np.std(differences, ddof=1)\n",
    "\n",
    "# Number of observations\n",
    "n = len(differences)\n",
    "\n",
    "# Calculate the standard error\n",
    "se = std_diff / np.sqrt(n)\n",
    "\n",
    "# Calculate the z-score\n",
    "z_score = mean_diff / se\n",
    "\n",
    "# Calculate the p-value\n",
    "p_value = 2 * (1 - stats.norm.cdf(abs(z_score)))\n",
    "\n",
    "print(f\"Mean difference: {mean_diff}\")\n",
    "print(f\"Standard deviation of differences: {std_diff}\")\n",
    "print(f\"Z-score: {z_score}\")\n",
    "print(f\"P-value: {p_value}\")\n",
    "\n",
    "# Determine if the result is significant\n",
    "alpha = 0.05\n",
    "if p_value < alpha:\n",
    "    print(\"The drug is effective in reducing blood pressure.\")\n",
    "else:\n",
    "    print(\"The drug is not effective in reducing blood pressure.\")\n"
   ]
  },
  {
   "cell_type": "code",
   "execution_count": null,
   "id": "c34f5baf-27d9-47ad-84e8-e5f9ba8e0e3a",
   "metadata": {},
   "outputs": [],
   "source": []
  },
  {
   "cell_type": "markdown",
   "id": "c77f19d2-b391-4c26-92d1-f2e00475fe06",
   "metadata": {},
   "source": [
    "Q14) A customer service depart:ent claims that their average response time is less than 5 minutes. A sample\n",
    "of recent customer interactions was taken, and the response times were recorded.\n",
    "\n",
    "\n",
    "Implement the below code to gererate the array of response time:\n",
    "\n",
    "```python\n",
    "\n",
    "response_times = 3p.array([4.3, 3.8, 5.1, 4.9, 4.7, 4.2, 5.2, 4.5, 4.6, 4.4])\n",
    "\n",
    "```\n",
    "\n",
    "Implement z-test to find the claims made by customer service department are true or false."
   ]
  },
  {
   "cell_type": "code",
   "execution_count": 12,
   "id": "71d2ccb1-7fc6-440a-974d-25175730a59e",
   "metadata": {},
   "outputs": [
    {
     "name": "stdout",
     "output_type": "stream",
     "text": [
      "Z-score: -3.184457226042963\n",
      "P-value: 0.0014502574226137916\n",
      "Reject the null hypothesis. The average response time is significantly less than 5 minutes.\n"
     ]
    }
   ],
   "source": [
    "import numpy as np\n",
    "from scipy import stats\n",
    "\n",
    "# Sample data\n",
    "response_times = np.array([4.3, 3.8, 5.1, 4.9, 4.7, 4.2, 5.2, 4.5, 4.6, 4.4])\n",
    "\n",
    "# Hypothesized population mean\n",
    "mu = 5\n",
    "\n",
    "# Sample mean\n",
    "sample_mean = np.mean(response_times)\n",
    "\n",
    "# Sample standard deviation\n",
    "sample_std = np.std(response_times, ddof=1)\n",
    "\n",
    "# Sample size\n",
    "n = len(response_times)\n",
    "\n",
    "# Standard error\n",
    "standard_error = sample_std / np.sqrt(n)\n",
    "\n",
    "# Z-score\n",
    "z_score = (sample_mean - mu) / standard_error\n",
    "\n",
    "# P-value from the z-score\n",
    "p_value = stats.norm.sf(abs(z_score)) * 2  # two-tailed test\n",
    "\n",
    "print(f\"Z-score: {z_score}\")\n",
    "print(f\"P-value: {p_value}\")\n",
    "\n",
    "# Determine if we reject the null hypothesis\n",
    "alpha = 0.05  # significance level\n",
    "if p_value < alpha:\n",
    "    print(\"Reject the null hypothesis. The average response time is significantly less than 5 minutes.\")\n",
    "else:\n",
    "    print(\"Fail to reject the null hypothesis. There is not enough evidence to say the average response time is less than 5 minutes.\")\n"
   ]
  },
  {
   "cell_type": "code",
   "execution_count": null,
   "id": "ed7e98a9-42cb-491c-816f-6598db46a299",
   "metadata": {},
   "outputs": [],
   "source": []
  },
  {
   "cell_type": "markdown",
   "id": "bbc15872-74ec-4e86-b6b9-b04ae54b625f",
   "metadata": {},
   "source": [
    "Q15) A company is testing two different website layouts to see which one leads to higher click-through rates.\n",
    "Write a Python function to perform an A/B test analysis, including calculating the t-statistic, degrees of\n",
    "freedom, and p-value.\n",
    "\n",
    "\n",
    "Use the followi3g data:\n",
    "\n",
    "```python\n",
    "\n",
    "layout_a_clicks = [28, 32, 33, 29, 31, 34, 30, 35, 36, 37]\n",
    "\n",
    "layout_b_clicks = [40, 41, 38, 42, 39, 44, 43, 41, 45, 47]"
   ]
  },
  {
   "cell_type": "code",
   "execution_count": 13,
   "id": "5df7460d-bae3-4b0a-ac45-1c70eb3ec6a0",
   "metadata": {},
   "outputs": [
    {
     "name": "stdout",
     "output_type": "stream",
     "text": [
      "T-statistic: -7.298102156175071\n",
      "Degrees of freedom: 17.879871863320876\n",
      "P-value: 9.196596070789357e-07\n",
      "Reject the null hypothesis. There is a significant difference between the two layouts.\n"
     ]
    }
   ],
   "source": [
    "import numpy as np\n",
    "from scipy import stats\n",
    "\n",
    "def ab_test(layout_a_clicks, layout_b_clicks):\n",
    "    # Convert lists to numpy arrays\n",
    "    layout_a = np.array(layout_a_clicks)\n",
    "    layout_b = np.array(layout_b_clicks)\n",
    "    \n",
    "    # Calculate means\n",
    "    mean_a = np.mean(layout_a)\n",
    "    mean_b = np.mean(layout_b)\n",
    "    \n",
    "    # Calculate standard deviations\n",
    "    std_a = np.std(layout_a, ddof=1)\n",
    "    std_b = np.std(layout_b, ddof=1)\n",
    "    \n",
    "    # Calculate sample sizes\n",
    "    n_a = len(layout_a)\n",
    "    n_b = len(layout_b)\n",
    "    \n",
    "    # Calculate standard error\n",
    "    se_a = std_a / np.sqrt(n_a)\n",
    "    se_b = std_b / np.sqrt(n_b)\n",
    "    \n",
    "    # Calculate t-statistic\n",
    "    t_statistic = (mean_a - mean_b) / np.sqrt(se_a**2 + se_b**2)\n",
    "    \n",
    "    # Calculate degrees of freedom\n",
    "    df = ((se_a**2 + se_b**2)**2) / (((se_a**2)**2 / (n_a - 1)) + ((se_b**2)**2 / (n_b - 1)))\n",
    "    \n",
    "    # Calculate p-value\n",
    "    p_value = stats.t.sf(np.abs(t_statistic), df) * 2  # two-tailed test\n",
    "    \n",
    "    return t_statistic, df, p_value\n",
    "\n",
    "# Provided data\n",
    "layout_a_clicks = [28, 32, 33, 29, 31, 34, 30, 35, 36, 37]\n",
    "layout_b_clicks = [40, 41, 38, 42, 39, 44, 43, 41, 45, 47]\n",
    "\n",
    "# Perform A/B test\n",
    "t_statistic, df, p_value = ab_test(layout_a_clicks, layout_b_clicks)\n",
    "\n",
    "print(f\"T-statistic: {t_statistic}\")\n",
    "print(f\"Degrees of freedom: {df}\")\n",
    "print(f\"P-value: {p_value}\")\n",
    "\n",
    "# Determine if we reject the null hypothesis\n",
    "alpha = 0.05  # significance level\n",
    "if p_value < alpha:\n",
    "    print(\"Reject the null hypothesis. There is a significant difference between the two layouts.\")\n",
    "else:\n",
    "    print(\"Fail to reject the null hypothesis. There is not enough evidence to say there is a significant difference between the two layouts.\")\n"
   ]
  },
  {
   "cell_type": "code",
   "execution_count": null,
   "id": "7accd21e-8456-428e-a8af-9b4188bdf8d3",
   "metadata": {},
   "outputs": [],
   "source": []
  },
  {
   "cell_type": "markdown",
   "id": "247dd7e2-0ac8-40a7-a30c-762380967d8d",
   "metadata": {},
   "source": [
    "Q16) A pharmaceutical company wants to determine if a new drug is more effective than an existing drug in\n",
    "reducing cholesterol levels. Create a program to analyze the clinical trial data and calculate the tstatistic and p-value for the treatment effect.\n",
    "\n",
    "\n",
    "Use the followi3g data of cholestrol level:\n",
    "\n",
    "```python\n",
    "\n",
    "existing_drug_levels = [180, 182, 175, 185, 178, 176, 172, 184, 179, 183]\n",
    "\n",
    "new_drug_levels = [170, 172, 165, 168, 175, 173, 170, 178, 172, 176]\n"
   ]
  },
  {
   "cell_type": "code",
   "execution_count": 14,
   "id": "c609d72b-94d6-4bb3-832c-813d53be99a6",
   "metadata": {},
   "outputs": [
    {
     "name": "stdout",
     "output_type": "stream",
     "text": [
      "T-statistic: 4.14048098620866\n",
      "P-value: 0.0006143398442372505\n"
     ]
    }
   ],
   "source": [
    "import numpy as np\n",
    "from scipy import stats\n",
    "\n",
    "# Cholesterol levels for the existing and new drugs\n",
    "existing_drug_levels = [180, 182, 175, 185, 178, 176, 172, 184, 179, 183]\n",
    "new_drug_levels = [170, 172, 165, 168, 175, 173, 170, 178, 172, 176]\n",
    "\n",
    "# Convert lists to numpy arrays\n",
    "existing_drug_levels = np.array(existing_drug_levels)\n",
    "new_drug_levels = np.array(new_drug_levels)\n",
    "\n",
    "# Calculate the t-statistic and p-value\n",
    "t_statistic, p_value = stats.ttest_ind(existing_drug_levels, new_drug_levels)\n",
    "\n",
    "print(f\"T-statistic: {t_statistic}\")\n",
    "print(f\"P-value: {p_value}\")\n"
   ]
  },
  {
   "cell_type": "code",
   "execution_count": null,
   "id": "c5c2714e-4580-47c2-a2ad-993fb6b9e327",
   "metadata": {},
   "outputs": [],
   "source": []
  },
  {
   "cell_type": "markdown",
   "id": "7af16375-0985-4a6b-8bd7-52a080ad75af",
   "metadata": {},
   "source": [
    "Q17)A school district introduces an educational intervention program to improve math scores. Write a Python\n",
    "function to analyze pre- and post-intervention test scores, calculating the t-statistic and p-value to\n",
    "determine if the intervention had a significant impact.\n",
    "\n",
    "\n",
    "Use the following data of test score:\n",
    "\n",
    "\n",
    "  ```python\n",
    "\n",
    "  pre_intervention_scores = [80, 85, 90, 75, 88, 82, 92, 78, 85, 87]\n",
    "\n",
    "  post_intervention_scores = [90, 92, 88, 92, 95, 91, 96, 93, 89, 93]"
   ]
  },
  {
   "cell_type": "code",
   "execution_count": 15,
   "id": "0c632906-0e62-4d95-ad71-1078cde55e62",
   "metadata": {},
   "outputs": [
    {
     "name": "stdout",
     "output_type": "stream",
     "text": [
      "T-statistic: -4.42840883965761\n",
      "P-value: 0.0016509548165795493\n"
     ]
    }
   ],
   "source": [
    "import numpy as np\n",
    "from scipy import stats\n",
    "\n",
    "def analyze_intervention(pre_scores, post_scores):\n",
    "    # Convert lists to numpy arrays\n",
    "    pre_scores = np.array(pre_scores)\n",
    "    post_scores = np.array(post_scores)\n",
    "    \n",
    "    # Calculate the t-statistic and p-value for the paired t-test\n",
    "    t_statistic, p_value = stats.ttest_rel(pre_scores, post_scores)\n",
    "    \n",
    "    return t_statistic, p_value\n",
    "\n",
    "# Test scores before and after the intervention\n",
    "pre_intervention_scores = [80, 85, 90, 75, 88, 82, 92, 78, 85, 87]\n",
    "post_intervention_scores = [90, 92, 88, 92, 95, 91, 96, 93, 89, 93]\n",
    "\n",
    "# Analyze the intervention\n",
    "t_statistic, p_value = analyze_intervention(pre_intervention_scores, post_intervention_scores)\n",
    "\n",
    "print(f\"T-statistic: {t_statistic}\")\n",
    "print(f\"P-value: {p_value}\")\n"
   ]
  },
  {
   "cell_type": "code",
   "execution_count": null,
   "id": "f0b86207-9403-44d0-b9fa-f11de6e894f0",
   "metadata": {},
   "outputs": [],
   "source": []
  },
  {
   "cell_type": "markdown",
   "id": "6a0429f4-0b65-40d1-acef-5088aba2af5b",
   "metadata": {},
   "source": [
    "Q18) An HR department wants to investigate if there's a gender-based salary gap within the company. Develop\n",
    "a program to analyze salary data, calculate the t-statistic, and determine if there's a statistically\n",
    "significant difference between the average salaries of male and female employees.\n",
    "\n",
    "\n",
    "Use the below code to generate synthetic data.\n",
    "```python\n",
    "\n",
    " Generate synthetic salary data for male and female employees\n",
    "\n",
    "np.random.seed(0)  # For reproducibility\n",
    "\n",
    "male_salaries = np.random.normal(loc=50000, scale=10000, size=20)\n",
    "\n",
    "female_salaries = np.random.normal(loc=55000, scale=9000, size=20)"
   ]
  },
  {
   "cell_type": "code",
   "execution_count": 16,
   "id": "94dbe07d-8cc7-4bd6-96af-a461252f3450",
   "metadata": {},
   "outputs": [
    {
     "name": "stdout",
     "output_type": "stream",
     "text": [
      "Male Salaries: [67640.52345968 54001.57208367 59787.37984106 72408.93199201\n",
      " 68675.5799015  40227.22120124 59500.88417526 48486.42791702\n",
      " 48967.81148206 54105.98501938 51440.43571161 64542.73506963\n",
      " 57610.37725147 51216.75016493 54438.63232745 53336.74327374\n",
      " 64940.79073158 47948.41736234 53130.67701651 41459.04260698]\n",
      "Female Salaries: [32023.09165749 60882.56735896 62779.92578974 48320.51481634\n",
      " 75427.79161589 41910.70892861 55411.82665571 53315.34534977\n",
      " 68795.01292923 68224.2289291  56394.52683127 58403.46267642\n",
      " 47009.92827133 37172.83178598 51868.79065606 56407.14072194\n",
      " 66072.61612655 65821.41863906 51514.05864333 52279.27524482]\n",
      "T-statistic: 0.06114208969631383\n",
      "P-value: 0.9515665020676465\n"
     ]
    }
   ],
   "source": [
    "import numpy as np\n",
    "from scipy import stats\n",
    "\n",
    "# Generate synthetic salary data for male and female employees\n",
    "np.random.seed(0)  # For reproducibility\n",
    "\n",
    "male_salaries = np.random.normal(loc=50000, scale=10000, size=20)\n",
    "female_salaries = np.random.normal(loc=55000, scale=9000, size=20)\n",
    "\n",
    "# Calculate the t-statistic and p-value\n",
    "t_statistic, p_value = stats.ttest_ind(male_salaries, female_salaries)\n",
    "\n",
    "print(f\"Male Salaries: {male_salaries}\")\n",
    "print(f\"Female Salaries: {female_salaries}\")\n",
    "print(f\"T-statistic: {t_statistic}\")\n",
    "print(f\"P-value: {p_value}\")\n"
   ]
  },
  {
   "cell_type": "code",
   "execution_count": null,
   "id": "c60c64e2-cd3c-4a9f-beec-b77aeed2b6ca",
   "metadata": {},
   "outputs": [],
   "source": []
  },
  {
   "cell_type": "markdown",
   "id": "a375bffa-2ab0-4464-8a66-39dd7c7388d0",
   "metadata": {},
   "source": [
    "Q19) A manufacturer produces two different versions of a product and wants to compare their quality scores.\n",
    "Create a Python function to analyze quality assessment data, calculate the t-statistic, and decide\n",
    "whether there's a significant difference in quality between the two versions.\n",
    "\n",
    "\n",
    "Use the following data.\n",
    "\n",
    "\n",
    "version1_scores = [85, 88, 82, 89, 87, 84, 90, 88, 85, 86, 91, 83, 87, 84, 89, 86, 84, 88, 85, 86, 89, 90, 87, 88, 85]\n",
    "\n",
    "version2_scores = [80, 78, 83, 81, 79, 82, 76, 80, 78, 81, 77, 82, 80, 79, 82, 79, 80, 81, 79, 82, 79, 78, 80, 81, 82]"
   ]
  },
  {
   "cell_type": "code",
   "execution_count": 1,
   "id": "4bbe5f16-0ba6-4e3c-9024-815054197071",
   "metadata": {},
   "outputs": [
    {
     "name": "stdout",
     "output_type": "stream",
     "text": [
      "T-statistic: 11.325830417646698\n",
      "P-value: 3.6824250702873965e-15\n",
      "There is a significant difference in quality between the two versions.\n"
     ]
    }
   ],
   "source": [
    "import numpy as np\n",
    "from scipy.stats import ttest_ind\n",
    "\n",
    "def compare_quality_scores(version1_scores, version2_scores, alpha=0.05):\n",
    "    # Calculate the t-statistic and p-value\n",
    "    t_stat, p_value = ttest_ind(version1_scores, version2_scores)\n",
    "    \n",
    "    # Determine if the difference is significant\n",
    "    if p_value < alpha:\n",
    "        result = \"There is a significant difference in quality between the two versions.\"\n",
    "    else:\n",
    "        result = \"There is no significant difference in quality between the two versions.\"\n",
    "    \n",
    "    return t_stat, p_value, result\n",
    "\n",
    "# Quality scores for the two versions\n",
    "version1_scores = [85, 88, 82, 89, 87, 84, 90, 88, 85, 86, 91, 83, 87, 84, 89, 86, 84, 88, 85, 86, 89, 90, 87, 88, 85]\n",
    "version2_scores = [80, 78, 83, 81, 79, 82, 76, 80, 78, 81, 77, 82, 80, 79, 82, 79, 80, 81, 79, 82, 79, 78, 80, 81, 82]\n",
    "\n",
    "# Compare the quality scores\n",
    "t_stat, p_value, result = compare_quality_scores(version1_scores, version2_scores)\n",
    "\n",
    "print(f\"T-statistic: {t_stat}\")\n",
    "print(f\"P-value: {p_value}\")\n",
    "print(result)\n"
   ]
  },
  {
   "cell_type": "code",
   "execution_count": null,
   "id": "f8557b63-7e2a-4f8e-addd-559c001ecb60",
   "metadata": {},
   "outputs": [],
   "source": []
  },
  {
   "cell_type": "markdown",
   "id": "3f874628-e07a-468c-91ec-5de2555bd2f0",
   "metadata": {},
   "source": [
    "Q20)  A restaurant chain collects customer satisfaction scores for two different branches. Write a program to\n",
    "analyze the scores, calculate the t-statistic, and determine if there's a statistically significant difference in\n",
    "customer satisfaction between the branches.\n",
    "\n",
    "\n",
    "Use the below data of scores:\n",
    "\n",
    "  ```python\n",
    "\n",
    "branch_a_scores = [4, 5, 3, 4, 5, 4, 5, 3, 4, 4, 5, 4, 4, 3, 4, 5, 5, 4, 3, 4, 5, 4, 3, 5, 4, 4, 5, 3, 4, 5, 4]\n",
    "\n",
    "branch_b_scores = [3, 4, 2, 3, 4, 3, 4, 2, 3, 3, 4, 3, 3, 2, 3, 4, 4, 3, 2, 3, 4, 3, 2, 4, 3, 3, 4, 2, 3, 4, 3]```"
   ]
  },
  {
   "cell_type": "code",
   "execution_count": 2,
   "id": "d4b7a931-a405-4546-b787-e43abeb356da",
   "metadata": {},
   "outputs": [
    {
     "name": "stdout",
     "output_type": "stream",
     "text": [
      "T-statistic: 5.480077554195743\n",
      "P-value: 8.895290509945655e-07\n",
      "There is a significant difference in customer satisfaction between the two branches.\n"
     ]
    }
   ],
   "source": [
    "import numpy as np\n",
    "from scipy.stats import ttest_ind\n",
    "\n",
    "def compare_satisfaction_scores(branch_a_scores, branch_b_scores, alpha=0.05):\n",
    "    # Calculate the t-statistic and p-value\n",
    "    t_stat, p_value = ttest_ind(branch_a_scores, branch_b_scores)\n",
    "    \n",
    "    # Determine if the difference is significant\n",
    "    if p_value < alpha:\n",
    "        result = \"There is a significant difference in customer satisfaction between the two branches.\"\n",
    "    else:\n",
    "        result = \"There is no significant difference in customer satisfaction between the two branches.\"\n",
    "    \n",
    "    return t_stat, p_value, result\n",
    "\n",
    "# Customer satisfaction scores for the two branches\n",
    "branch_a_scores = [4, 5, 3, 4, 5, 4, 5, 3, 4, 4, 5, 4, 4, 3, 4, 5, 5, 4, 3, 4, 5, 4, 3, 5, 4, 4, 5, 3, 4, 5, 4]\n",
    "branch_b_scores = [3, 4, 2, 3, 4, 3, 4, 2, 3, 3, 4, 3, 3, 2, 3, 4, 4, 3, 2, 3, 4, 3, 2, 4, 3, 3, 4, 2, 3, 4, 3]\n",
    "\n",
    "# Compare the satisfaction scores\n",
    "t_stat, p_value, result = compare_satisfaction_scores(branch_a_scores, branch_b_scores)\n",
    "\n",
    "print(f\"T-statistic: {t_stat}\")\n",
    "print(f\"P-value: {p_value}\")\n",
    "print(result)\n"
   ]
  },
  {
   "cell_type": "code",
   "execution_count": null,
   "id": "6821db0c-7004-4604-adf8-0b26a1864ecd",
   "metadata": {},
   "outputs": [],
   "source": []
  },
  {
   "cell_type": "markdown",
   "id": "129ce475-bed0-44b2-805d-9bbbcdb92020",
   "metadata": {},
   "source": [
    "Q21) A political analyst wants to determine if there is a significant association between age groups and voter\n",
    "preferences (Candidate A or Candidate B). They collect data from a sample of 500 voters and classify\n",
    "them into diffrent age groups and candidate preferences. Perform a Chi-Square test to determine if\n",
    "there is a significant association between age groups and voter preferences.\n",
    "\n",
    "\n",
    "Use the below code to generate data:\n",
    "\n",
    "```python\n",
    "\n",
    "np.random.seed(0)\n",
    "\n",
    "age_groups = np.random.choice([ 18 30 , 31 50 , 51+', 51+'], size=30)\n",
    "\n",
    "voter_preferences = np.random.choice(['Candidate A', 'Candidate B'], size=30)```"
   ]
  },
  {
   "cell_type": "code",
   "execution_count": 5,
   "id": "a85ddcbb-ce3a-487c-8ba4-a62190200f47",
   "metadata": {},
   "outputs": [
    {
     "name": "stdout",
     "output_type": "stream",
     "text": [
      "  Age Group Voter Preference\n",
      "0     18-30      Candidate B\n",
      "1     31-50      Candidate A\n",
      "2     18-30      Candidate B\n",
      "3     31-50      Candidate B\n",
      "4     31-50      Candidate A\n",
      "Chi-Square Statistic: 0.8779923945254768\n",
      "P-value: 0.6446832311860852\n",
      "Degrees of Freedom: 2\n",
      "Expected Frequencies:\n",
      "[[96.824 85.176]\n",
      " [89.908 79.092]\n",
      " [79.268 69.732]]\n"
     ]
    }
   ],
   "source": [
    "import numpy as np\n",
    "import pandas as pd\n",
    "from scipy.stats import chi2_contingency\n",
    "\n",
    "# Seed for reproducibility\n",
    "np.random.seed(0)\n",
    "\n",
    "# Generate age groups and voter preferences\n",
    "age_groups = np.random.choice(['18-30', '31-50', '51+'], size=500)\n",
    "voter_preferences = np.random.choice(['Candidate A', 'Candidate B'], size=500)\n",
    "\n",
    "# Create a DataFrame\n",
    "data = pd.DataFrame({'Age Group': age_groups, 'Voter Preference': voter_preferences})\n",
    "\n",
    "# Display the first few rows of the DataFrame\n",
    "print(data.head())\n",
    "\n",
    "# Create a contingency table\n",
    "contingency_table = pd.crosstab(data['Age Group'], data['Voter Preference'])\n",
    "\n",
    "# Perform the Chi-Square test\n",
    "chi2, p, dof, expected = chi2_contingency(contingency_table)\n",
    "\n",
    "# Display the results\n",
    "print(f\"Chi-Square Statistic: {chi2}\")\n",
    "print(f\"P-value: {p}\")\n",
    "print(f\"Degrees of Freedom: {dof}\")\n",
    "print(\"Expected Frequencies:\")\n",
    "print(expected)\n"
   ]
  },
  {
   "cell_type": "code",
   "execution_count": null,
   "id": "70104905-d0ff-4a8b-8809-13b2f3e0c527",
   "metadata": {},
   "outputs": [],
   "source": []
  },
  {
   "cell_type": "markdown",
   "id": "ab678541-6540-4ef6-a6fd-20f36bf59047",
   "metadata": {},
   "source": [
    "Q22)  A company conducted a customer satisfaction survey to determine if there is a significant relationship\n",
    "between product satisfaction levels (Satisfied, Neutral, Dissatisfied) and the region where customers are\n",
    "located (East, West, North, South). The survey data is summarized in a contingency table. Conduct a ChiSquare test to determine if there is a significant relationship between product satisfaction levels and\n",
    "customer regions.\n",
    "\n",
    "\n",
    "Sample data:\n",
    "\n",
    "```python\n",
    "\n",
    "#Sample data: Product satisfaction levels (rows) vs. Customer regions (columns)\n",
    "\n",
    "data = np.array([[50, 30, 40, 20], [30, 40, 30, 50], [20, 30, 40, 30]])"
   ]
  },
  {
   "cell_type": "code",
   "execution_count": 6,
   "id": "0abab2c3-b34c-4923-a7e0-c308ee2eaba8",
   "metadata": {},
   "outputs": [
    {
     "name": "stdout",
     "output_type": "stream",
     "text": [
      "Contingency Table:\n",
      "              East  West  North  South\n",
      "Satisfied       50    30     40     20\n",
      "Neutral         30    40     30     50\n",
      "Dissatisfied    20    30     40     30\n",
      "\n",
      "Chi-Square Statistic: 27.777056277056275\n",
      "P-value: 0.00010349448486004387\n",
      "Degrees of Freedom: 6\n",
      "Expected Frequencies:\n",
      "[[34.14634146 34.14634146 37.56097561 34.14634146]\n",
      " [36.58536585 36.58536585 40.24390244 36.58536585]\n",
      " [29.26829268 29.26829268 32.19512195 29.26829268]]\n"
     ]
    }
   ],
   "source": [
    "import numpy as np\n",
    "import pandas as pd\n",
    "from scipy.stats import chi2_contingency\n",
    "\n",
    "# Sample data: Product satisfaction levels (rows) vs. Customer regions (columns)\n",
    "data = np.array([[50, 30, 40, 20], [30, 40, 30, 50], [20, 30, 40, 30]])\n",
    "\n",
    "# Create a DataFrame for better visualization\n",
    "df = pd.DataFrame(data, \n",
    "                  index=['Satisfied', 'Neutral', 'Dissatisfied'], \n",
    "                  columns=['East', 'West', 'North', 'South'])\n",
    "\n",
    "# Display the DataFrame\n",
    "print(\"Contingency Table:\")\n",
    "print(df)\n",
    "\n",
    "# Perform the Chi-Square test\n",
    "chi2, p, dof, expected = chi2_contingency(df)\n",
    "\n",
    "# Display the results\n",
    "print(\"\\nChi-Square Statistic:\", chi2)\n",
    "print(\"P-value:\", p)\n",
    "print(\"Degrees of Freedom:\", dof)\n",
    "print(\"Expected Frequencies:\")\n",
    "print(expected)\n"
   ]
  },
  {
   "cell_type": "code",
   "execution_count": null,
   "id": "7aec250c-0a92-4fb7-a8a5-8905245720ce",
   "metadata": {},
   "outputs": [],
   "source": []
  },
  {
   "cell_type": "markdown",
   "id": "24ec3735-cf85-4693-b637-e37bdf612e47",
   "metadata": {},
   "source": [
    "Q23) A company implemented an employee training program to improve job performance (Effective, Neutral,\n",
    "Ineffective). After the training, they collected data from a sample of employees and classified them based\n",
    "on their job performance before and after the training. Perform a Chi-Square test to determine if there is a\n",
    "significant difference between job performance levels before and after the training.\n",
    "\n",
    "\n",
    "Sample data:\n",
    "\n",
    "```python\n",
    "\n",
    "Sample data: Job performance levels before (rows) and after (columns) training\n",
    "\n",
    "data = np.array([[50, 30, 20], [30, 40, 30], [20, 30, 40]])"
   ]
  },
  {
   "cell_type": "code",
   "execution_count": 7,
   "id": "57837f52-b962-46ca-95fe-18e0d1362e10",
   "metadata": {},
   "outputs": [
    {
     "name": "stdout",
     "output_type": "stream",
     "text": [
      "Contingency Table:\n",
      "                     After: Effective  After: Neutral  After: Ineffective\n",
      "Before: Effective                  50              30                  20\n",
      "Before: Neutral                    30              40                  30\n",
      "Before: Ineffective                20              30                  40\n",
      "\n",
      "Chi-Square Statistic: 22.161728395061726\n",
      "P-value: 0.00018609719479882557\n",
      "Degrees of Freedom: 4\n",
      "Expected Frequencies:\n",
      "[[34.48275862 34.48275862 31.03448276]\n",
      " [34.48275862 34.48275862 31.03448276]\n",
      " [31.03448276 31.03448276 27.93103448]]\n"
     ]
    }
   ],
   "source": [
    "import numpy as np\n",
    "import pandas as pd\n",
    "from scipy.stats import chi2_contingency\n",
    "\n",
    "# Sample data: Job performance levels before (rows) and after (columns) training\n",
    "data = np.array([[50, 30, 20], [30, 40, 30], [20, 30, 40]])\n",
    "\n",
    "# Create a DataFrame for better visualization\n",
    "df = pd.DataFrame(data, \n",
    "                  index=['Before: Effective', 'Before: Neutral', 'Before: Ineffective'], \n",
    "                  columns=['After: Effective', 'After: Neutral', 'After: Ineffective'])\n",
    "\n",
    "# Display the DataFrame\n",
    "print(\"Contingency Table:\")\n",
    "print(df)\n",
    "\n",
    "# Perform the Chi-Square test\n",
    "chi2, p, dof, expected = chi2_contingency(df)\n",
    "\n",
    "# Display the results\n",
    "print(\"\\nChi-Square Statistic:\", chi2)\n",
    "print(\"P-value:\", p)\n",
    "print(\"Degrees of Freedom:\", dof)\n",
    "print(\"Expected Frequencies:\")\n",
    "print(expected)\n"
   ]
  },
  {
   "cell_type": "code",
   "execution_count": null,
   "id": "6bf72545-f1a9-4f45-b576-90e5c51b86cc",
   "metadata": {},
   "outputs": [],
   "source": []
  },
  {
   "cell_type": "markdown",
   "id": "6f6a1eb3-4182-429d-8454-d79580317419",
   "metadata": {},
   "source": [
    "Q24)  A company produces three different versions of a product: Standard, Premium, and Deluxe. The\n",
    "company wants to determine if there is a significant difference in customer satisfaction scores among the\n",
    "three product versions. They conducted a survey and collected customer satisfaction scores for each\n",
    "version from a random sample of customers. Perform an ANOVA test to determine if there is a significant\n",
    "difference in customer satisfaction scores.\n",
    "\n",
    "\n",
    "  Use the following data:\n",
    "\n",
    "  ```python\n",
    "\n",
    "   Sample data: Customer satisfaction scores for each product version\n",
    "\n",
    "  standard_scores = [80, 85, 90, 78, 88, 82, 92, 78, 85, 87]\n",
    "\n",
    "  premium_scores = [90, 92, 88, 92, 95, 91, 96, 93, 89, 93]\n",
    "\n",
    "  deluxe_scores = [95, 98, 92, 97, 96, 94, 98, 97, 92, 99]```"
   ]
  },
  {
   "cell_type": "code",
   "execution_count": 8,
   "id": "6541260b-557e-4066-a35f-f9b63c03178f",
   "metadata": {},
   "outputs": [
    {
     "name": "stdout",
     "output_type": "stream",
     "text": [
      "F-statistic: 27.03556231003039\n",
      "P-value: 3.5786328857349003e-07\n"
     ]
    }
   ],
   "source": [
    "import scipy.stats as stats\n",
    "\n",
    "# Sample data\n",
    "standard_scores = [80, 85, 90, 78, 88, 82, 92, 78, 85, 87]\n",
    "premium_scores = [90, 92, 88, 92, 95, 91, 96, 93, 89, 93]\n",
    "deluxe_scores = [95, 98, 92, 97, 96, 94, 98, 97, 92, 99]\n",
    "\n",
    "# Perform one-way ANOVA\n",
    "f_statistic, p_value = stats.f_oneway(standard_scores, premium_scores, deluxe_scores)\n",
    "\n",
    "print(f\"F-statistic: {f_statistic}\")\n",
    "print(f\"P-value: {p_value}\")\n",
    "\n"
   ]
  },
  {
   "cell_type": "code",
   "execution_count": null,
   "id": "e9853076-05d9-47a7-b24a-aac7f1a0933c",
   "metadata": {},
   "outputs": [],
   "source": []
  }
 ],
 "metadata": {
  "kernelspec": {
   "display_name": "Python 3 (ipykernel)",
   "language": "python",
   "name": "python3"
  },
  "language_info": {
   "codemirror_mode": {
    "name": "ipython",
    "version": 3
   },
   "file_extension": ".py",
   "mimetype": "text/x-python",
   "name": "python",
   "nbconvert_exporter": "python",
   "pygments_lexer": "ipython3",
   "version": "3.10.8"
  }
 },
 "nbformat": 4,
 "nbformat_minor": 5
}
